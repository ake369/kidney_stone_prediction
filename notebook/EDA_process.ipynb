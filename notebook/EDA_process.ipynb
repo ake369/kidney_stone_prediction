{
 "cells": [
  {
   "cell_type": "markdown",
   "metadata": {},
   "source": [
    "## Eda Process"
   ]
  },
  {
   "cell_type": "code",
   "execution_count": null,
   "metadata": {},
   "outputs": [
    {
     "ename": "",
     "evalue": "",
     "output_type": "error",
     "traceback": [
      "\u001b[1;31mRunning cells with 'venv (Python 3.12.2)' requires the ipykernel package.\n",
      "\u001b[1;31mInstall 'ipykernel' into the Python environment. \n",
      "\u001b[1;31mCommand: 'f:/ALL_Project/Kidney_stone_prediction/venv/Scripts/python.exe -m pip install ipykernel -U --force-reinstall'"
     ]
    }
   ],
   "source": [
    "# importing libraries\n",
    "import pandas as pd\n",
    "import matplotlib.pyplot as plt\n",
    "import seaborn as sns\n",
    "from sklearn.preprocessing import StandardScaler\n",
    "from sklearn.impute import SimpleImputer\n",
    "import warnings\n",
    "warnings.filterwarnings('ignore')\n",
    "sns.set()\n",
    "%matplotlib inline"
   ]
  },
  {
   "cell_type": "code",
   "execution_count": 2,
   "metadata": {},
   "outputs": [],
   "source": [
    "df = pd.read_csv('data/kidney_stone_data.csv')"
   ]
  },
  {
   "cell_type": "code",
   "execution_count": 3,
   "metadata": {},
   "outputs": [
    {
     "data": {
      "text/html": [
       "<div>\n",
       "<style scoped>\n",
       "    .dataframe tbody tr th:only-of-type {\n",
       "        vertical-align: middle;\n",
       "    }\n",
       "\n",
       "    .dataframe tbody tr th {\n",
       "        vertical-align: top;\n",
       "    }\n",
       "\n",
       "    .dataframe thead th {\n",
       "        text-align: right;\n",
       "    }\n",
       "</style>\n",
       "<table border=\"1\" class=\"dataframe\">\n",
       "  <thead>\n",
       "    <tr style=\"text-align: right;\">\n",
       "      <th></th>\n",
       "      <th>Unnamed: 0</th>\n",
       "      <th>gravity</th>\n",
       "      <th>ph</th>\n",
       "      <th>osmo</th>\n",
       "      <th>cond</th>\n",
       "      <th>urea</th>\n",
       "      <th>calc</th>\n",
       "      <th>label</th>\n",
       "    </tr>\n",
       "  </thead>\n",
       "  <tbody>\n",
       "    <tr>\n",
       "      <th>0</th>\n",
       "      <td>0.00</td>\n",
       "      <td>0.95</td>\n",
       "      <td>4.87</td>\n",
       "      <td>724.99</td>\n",
       "      <td>13.97</td>\n",
       "      <td>442.98</td>\n",
       "      <td>2.52</td>\n",
       "      <td>0</td>\n",
       "    </tr>\n",
       "    <tr>\n",
       "      <th>1</th>\n",
       "      <td>0.93</td>\n",
       "      <td>1.02</td>\n",
       "      <td>5.76</td>\n",
       "      <td>576.98</td>\n",
       "      <td>19.95</td>\n",
       "      <td>295.99</td>\n",
       "      <td>4.55</td>\n",
       "      <td>0</td>\n",
       "    </tr>\n",
       "    <tr>\n",
       "      <th>2</th>\n",
       "      <td>2.07</td>\n",
       "      <td>1.04</td>\n",
       "      <td>7.24</td>\n",
       "      <td>320.96</td>\n",
       "      <td>14.90</td>\n",
       "      <td>100.90</td>\n",
       "      <td>2.40</td>\n",
       "      <td>0</td>\n",
       "    </tr>\n",
       "    <tr>\n",
       "      <th>3</th>\n",
       "      <td>3.06</td>\n",
       "      <td>1.00</td>\n",
       "      <td>5.52</td>\n",
       "      <td>408.04</td>\n",
       "      <td>12.66</td>\n",
       "      <td>224.05</td>\n",
       "      <td>2.12</td>\n",
       "      <td>0</td>\n",
       "    </tr>\n",
       "    <tr>\n",
       "      <th>4</th>\n",
       "      <td>4.03</td>\n",
       "      <td>0.99</td>\n",
       "      <td>6.53</td>\n",
       "      <td>186.92</td>\n",
       "      <td>7.47</td>\n",
       "      <td>90.97</td>\n",
       "      <td>1.12</td>\n",
       "      <td>0</td>\n",
       "    </tr>\n",
       "  </tbody>\n",
       "</table>\n",
       "</div>"
      ],
      "text/plain": [
       "   Unnamed: 0  gravity    ph    osmo   cond    urea  calc  label\n",
       "0        0.00     0.95  4.87  724.99  13.97  442.98  2.52      0\n",
       "1        0.93     1.02  5.76  576.98  19.95  295.99  4.55      0\n",
       "2        2.07     1.04  7.24  320.96  14.90  100.90  2.40      0\n",
       "3        3.06     1.00  5.52  408.04  12.66  224.05  2.12      0\n",
       "4        4.03     0.99  6.53  186.92   7.47   90.97  1.12      0"
      ]
     },
     "execution_count": 3,
     "metadata": {},
     "output_type": "execute_result"
    }
   ],
   "source": [
    "df.head()"
   ]
  },
  {
   "cell_type": "code",
   "execution_count": 4,
   "metadata": {},
   "outputs": [
    {
     "data": {
      "text/html": [
       "<div>\n",
       "<style scoped>\n",
       "    .dataframe tbody tr th:only-of-type {\n",
       "        vertical-align: middle;\n",
       "    }\n",
       "\n",
       "    .dataframe tbody tr th {\n",
       "        vertical-align: top;\n",
       "    }\n",
       "\n",
       "    .dataframe thead th {\n",
       "        text-align: right;\n",
       "    }\n",
       "</style>\n",
       "<table border=\"1\" class=\"dataframe\">\n",
       "  <thead>\n",
       "    <tr style=\"text-align: right;\">\n",
       "      <th></th>\n",
       "      <th>Unnamed: 0</th>\n",
       "      <th>gravity</th>\n",
       "      <th>ph</th>\n",
       "      <th>osmo</th>\n",
       "      <th>cond</th>\n",
       "      <th>urea</th>\n",
       "      <th>calc</th>\n",
       "      <th>label</th>\n",
       "    </tr>\n",
       "  </thead>\n",
       "  <tbody>\n",
       "    <tr>\n",
       "      <th>0</th>\n",
       "      <td>0.00</td>\n",
       "      <td>0.95</td>\n",
       "      <td>4.87</td>\n",
       "      <td>724.99</td>\n",
       "      <td>13.97</td>\n",
       "      <td>442.98</td>\n",
       "      <td>2.52</td>\n",
       "      <td>0</td>\n",
       "    </tr>\n",
       "    <tr>\n",
       "      <th>1</th>\n",
       "      <td>0.93</td>\n",
       "      <td>1.02</td>\n",
       "      <td>5.76</td>\n",
       "      <td>576.98</td>\n",
       "      <td>19.95</td>\n",
       "      <td>295.99</td>\n",
       "      <td>4.55</td>\n",
       "      <td>0</td>\n",
       "    </tr>\n",
       "    <tr>\n",
       "      <th>2</th>\n",
       "      <td>2.07</td>\n",
       "      <td>1.04</td>\n",
       "      <td>7.24</td>\n",
       "      <td>320.96</td>\n",
       "      <td>14.90</td>\n",
       "      <td>100.90</td>\n",
       "      <td>2.40</td>\n",
       "      <td>0</td>\n",
       "    </tr>\n",
       "    <tr>\n",
       "      <th>3</th>\n",
       "      <td>3.06</td>\n",
       "      <td>1.00</td>\n",
       "      <td>5.52</td>\n",
       "      <td>408.04</td>\n",
       "      <td>12.66</td>\n",
       "      <td>224.05</td>\n",
       "      <td>2.12</td>\n",
       "      <td>0</td>\n",
       "    </tr>\n",
       "    <tr>\n",
       "      <th>4</th>\n",
       "      <td>4.03</td>\n",
       "      <td>0.99</td>\n",
       "      <td>6.53</td>\n",
       "      <td>186.92</td>\n",
       "      <td>7.47</td>\n",
       "      <td>90.97</td>\n",
       "      <td>1.12</td>\n",
       "      <td>0</td>\n",
       "    </tr>\n",
       "  </tbody>\n",
       "</table>\n",
       "</div>"
      ],
      "text/plain": [
       "   Unnamed: 0  gravity    ph    osmo   cond    urea  calc  label\n",
       "0        0.00     0.95  4.87  724.99  13.97  442.98  2.52      0\n",
       "1        0.93     1.02  5.76  576.98  19.95  295.99  4.55      0\n",
       "2        2.07     1.04  7.24  320.96  14.90  100.90  2.40      0\n",
       "3        3.06     1.00  5.52  408.04  12.66  224.05  2.12      0\n",
       "4        4.03     0.99  6.53  186.92   7.47   90.97  1.12      0"
      ]
     },
     "execution_count": 4,
     "metadata": {},
     "output_type": "execute_result"
    }
   ],
   "source": [
    "df.head()"
   ]
  },
  {
   "cell_type": "code",
   "execution_count": 5,
   "metadata": {},
   "outputs": [],
   "source": [
    "df.drop('Unnamed: 0', axis = 1, inplace = True)"
   ]
  },
  {
   "cell_type": "code",
   "execution_count": 6,
   "metadata": {},
   "outputs": [],
   "source": [
    "df.columns = ['specific_gravity',\n",
    "              'ph_level',\n",
    "              'osmolality',\n",
    "              'conductivity',\n",
    "              'urea_concentration',\n",
    "              'calcium_concentration',\n",
    "              'kidney_stone']"
   ]
  },
  {
   "cell_type": "code",
   "execution_count": 7,
   "metadata": {},
   "outputs": [
    {
     "data": {
      "text/html": [
       "<div>\n",
       "<style scoped>\n",
       "    .dataframe tbody tr th:only-of-type {\n",
       "        vertical-align: middle;\n",
       "    }\n",
       "\n",
       "    .dataframe tbody tr th {\n",
       "        vertical-align: top;\n",
       "    }\n",
       "\n",
       "    .dataframe thead th {\n",
       "        text-align: right;\n",
       "    }\n",
       "</style>\n",
       "<table border=\"1\" class=\"dataframe\">\n",
       "  <thead>\n",
       "    <tr style=\"text-align: right;\">\n",
       "      <th></th>\n",
       "      <th>specific_gravity</th>\n",
       "      <th>ph_level</th>\n",
       "      <th>osmolality</th>\n",
       "      <th>conductivity</th>\n",
       "      <th>urea_concentration</th>\n",
       "      <th>calcium_concentration</th>\n",
       "      <th>kidney_stone</th>\n",
       "    </tr>\n",
       "  </thead>\n",
       "  <tbody>\n",
       "    <tr>\n",
       "      <th>0</th>\n",
       "      <td>0.95</td>\n",
       "      <td>4.87</td>\n",
       "      <td>724.99</td>\n",
       "      <td>13.97</td>\n",
       "      <td>442.98</td>\n",
       "      <td>2.52</td>\n",
       "      <td>0</td>\n",
       "    </tr>\n",
       "    <tr>\n",
       "      <th>1</th>\n",
       "      <td>1.02</td>\n",
       "      <td>5.76</td>\n",
       "      <td>576.98</td>\n",
       "      <td>19.95</td>\n",
       "      <td>295.99</td>\n",
       "      <td>4.55</td>\n",
       "      <td>0</td>\n",
       "    </tr>\n",
       "    <tr>\n",
       "      <th>2</th>\n",
       "      <td>1.04</td>\n",
       "      <td>7.24</td>\n",
       "      <td>320.96</td>\n",
       "      <td>14.90</td>\n",
       "      <td>100.90</td>\n",
       "      <td>2.40</td>\n",
       "      <td>0</td>\n",
       "    </tr>\n",
       "    <tr>\n",
       "      <th>3</th>\n",
       "      <td>1.00</td>\n",
       "      <td>5.52</td>\n",
       "      <td>408.04</td>\n",
       "      <td>12.66</td>\n",
       "      <td>224.05</td>\n",
       "      <td>2.12</td>\n",
       "      <td>0</td>\n",
       "    </tr>\n",
       "    <tr>\n",
       "      <th>4</th>\n",
       "      <td>0.99</td>\n",
       "      <td>6.53</td>\n",
       "      <td>186.92</td>\n",
       "      <td>7.47</td>\n",
       "      <td>90.97</td>\n",
       "      <td>1.12</td>\n",
       "      <td>0</td>\n",
       "    </tr>\n",
       "  </tbody>\n",
       "</table>\n",
       "</div>"
      ],
      "text/plain": [
       "   specific_gravity  ph_level  osmolality  conductivity  urea_concentration  \\\n",
       "0              0.95      4.87      724.99         13.97              442.98   \n",
       "1              1.02      5.76      576.98         19.95              295.99   \n",
       "2              1.04      7.24      320.96         14.90              100.90   \n",
       "3              1.00      5.52      408.04         12.66              224.05   \n",
       "4              0.99      6.53      186.92          7.47               90.97   \n",
       "\n",
       "   calcium_concentration  kidney_stone  \n",
       "0                   2.52             0  \n",
       "1                   4.55             0  \n",
       "2                   2.40             0  \n",
       "3                   2.12             0  \n",
       "4                   1.12             0  "
      ]
     },
     "execution_count": 7,
     "metadata": {},
     "output_type": "execute_result"
    }
   ],
   "source": [
    "df.head()"
   ]
  },
  {
   "cell_type": "code",
   "execution_count": 8,
   "metadata": {},
   "outputs": [
    {
     "data": {
      "text/plain": [
       "specific_gravity         0\n",
       "ph_level                 0\n",
       "osmolality               0\n",
       "conductivity             0\n",
       "urea_concentration       0\n",
       "calcium_concentration    0\n",
       "kidney_stone             0\n",
       "dtype: int64"
      ]
     },
     "execution_count": 8,
     "metadata": {},
     "output_type": "execute_result"
    }
   ],
   "source": [
    "df.isnull().sum()"
   ]
  },
  {
   "cell_type": "code",
   "execution_count": 9,
   "metadata": {},
   "outputs": [
    {
     "data": {
      "text/plain": [
       "specific_gravity         float64\n",
       "ph_level                 float64\n",
       "osmolality               float64\n",
       "conductivity             float64\n",
       "urea_concentration       float64\n",
       "calcium_concentration    float64\n",
       "kidney_stone               int64\n",
       "dtype: object"
      ]
     },
     "execution_count": 9,
     "metadata": {},
     "output_type": "execute_result"
    }
   ],
   "source": [
    "df.dtypes"
   ]
  },
  {
   "cell_type": "code",
   "execution_count": 10,
   "metadata": {},
   "outputs": [
    {
     "data": {
      "image/png": "[encoded data removed]",
      "text/plain": [
       "<Figure size 1500x500 with 2 Axes>"
      ]
     },
     "metadata": {},
     "output_type": "display_data"
    }
   ],
   "source": [
    "f,ax=plt.subplots(1,2,figsize=(15,5))\n",
    "sns.countplot(x=df['kidney_stone'],data=df,palette ='bright',ax=ax[0],saturation=0.95)\n",
    "for container in ax[0].containers:\n",
    "    ax[0].bar_label(container,color='black',size=20)\n",
    "    \n",
    "plt.pie(x=df['kidney_stone'].value_counts(),labels=['kidney stone','No stone'],explode=[0,0.1],autopct='%1.1f%%',shadow=True,colors=['#ff4d4d','#ff8000'])\n",
    "plt.show()"
   ]
  },
  {
   "cell_type": "code",
   "execution_count": 11,
   "metadata": {},
   "outputs": [
    {
     "data": {
      "image/png": "[encoded data removed]",
      "text/plain": [
       "<Figure size 1600x500 with 4 Axes>"
      ]
     },
     "metadata": {},
     "output_type": "display_data"
    }
   ],
   "source": [
    "plt.subplots(1,4,figsize=(16,5))\n",
    "plt.subplot(141)\n",
    "sns.boxplot(df['ph_level'],color='blue')\n",
    "plt.subplot(142)\n",
    "sns.boxplot(df['specific_gravity'],color='black')\n",
    "plt.subplot(143)\n",
    "sns.boxplot(df['ph_level'],color='yellow')\n",
    "plt.subplot(144)\n",
    "sns.boxplot(df['urea_concentration'],color='green')\n",
    "plt.show()"
   ]
  },
  {
   "cell_type": "code",
   "execution_count": null,
   "metadata": {},
   "outputs": [],
   "source": []
  }
 ],
 "metadata": {
  "kernelspec": {
   "display_name": "venv",
   "language": "python",
   "name": "python3"
  },
  "language_info": {
   "codemirror_mode": {
    "name": "ipython",
    "version": 3
   },
   "file_extension": ".py",
   "mimetype": "text/x-python",
   "name": "python",
   "nbconvert_exporter": "python",
   "pygments_lexer": "ipython3",
   "version": "3.12.2"
  }
 },
 "nbformat": 4,
 "nbformat_minor": 2
}
